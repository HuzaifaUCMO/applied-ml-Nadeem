{
  "cells": [
    {
      "cell_type": "markdown",
      "id": "f3e0a4d1",
      "metadata": {},
      "source": [
        "# Lab 5 – Ensemble ML Models on Wine Quality Data\n",
        "**Name:** Huzaifa Nadeem  \n",
        "**Date:** 2025-04-11  \n",
        "\n",
        "In this notebook, we explore ensemble machine learning methods to classify red wine quality using physicochemical features. We’ll compare boosted trees, bagging, voting classifiers, and evaluate which models generalize best to unseen data.\n"
      ]
    },
    {
      "cell_type": "code",
      "execution_count": null,
      "id": "0e31b23d",
      "metadata": {},
      "outputs": [],
      "source": [
        "# ------------------------------------------------\n",
        "# Imports \n",
        "# ------------------------------------------------\n",
        "import pandas as pd\n",
        "import numpy as np\n",
        "import matplotlib.pyplot as plt\n",
        "\n",
        "from sklearn.ensemble import (\n",
        "    RandomForestClassifier,\n",
        "    AdaBoostClassifier,\n",
        "    GradientBoostingClassifier,\n",
        "    BaggingClassifier,\n",
        "    VotingClassifier,\n",
        ")\n",
        "from sklearn.tree import DecisionTreeClassifier\n",
        "from sklearn.svm import SVC\n",
        "from sklearn.linear_model import LogisticRegression\n",
        "from sklearn.neighbors import KNeighborsClassifier\n",
        "from sklearn.neural_network import MLPClassifier\n",
        "\n",
        "from sklearn.preprocessing import LabelEncoder\n",
        "from sklearn.model_selection import train_test_split\n",
        "from sklearn.metrics import (\n",
        "    confusion_matrix,\n",
        "    accuracy_score,\n",
        "    precision_score,\n",
        "    recall_score,\n",
        "    f1_score,\n",
        ")\n"
      ]
    },
    {
      "cell_type": "markdown",
      "id": "72172123",
      "metadata": {},
      "source": [
        "## Section 1 – Load and Inspect the Data"
      ]
    },
    {
      "cell_type": "code",
      "execution_count": 13,
      "id": "d8bdf6dd",
      "metadata": {},
      "outputs": [
        {
          "name": "stdout",
          "output_type": "stream",
          "text": [
            "<class 'pandas.core.frame.DataFrame'>\n",
            "RangeIndex: 1599 entries, 0 to 1598\n",
            "Data columns (total 12 columns):\n",
            " #   Column                Non-Null Count  Dtype  \n",
            "---  ------                --------------  -----  \n",
            " 0   fixed acidity         1599 non-null   float64\n",
            " 1   volatile acidity      1599 non-null   float64\n",
            " 2   citric acid           1599 non-null   float64\n",
            " 3   residual sugar        1599 non-null   float64\n",
            " 4   chlorides             1599 non-null   float64\n",
            " 5   free sulfur dioxide   1599 non-null   float64\n",
            " 6   total sulfur dioxide  1599 non-null   float64\n",
            " 7   density               1599 non-null   float64\n",
            " 8   pH                    1599 non-null   float64\n",
            " 9   sulphates             1599 non-null   float64\n",
            " 10  alcohol               1599 non-null   float64\n",
            " 11  quality               1599 non-null   int64  \n",
            "dtypes: float64(11), int64(1)\n",
            "memory usage: 150.0 KB\n"
          ]
        },
        {
          "data": {
            "text/html": [
              "<div>\n",
              "<style scoped>\n",
              "    .dataframe tbody tr th:only-of-type {\n",
              "        vertical-align: middle;\n",
              "    }\n",
              "\n",
              "    .dataframe tbody tr th {\n",
              "        vertical-align: top;\n",
              "    }\n",
              "\n",
              "    .dataframe thead th {\n",
              "        text-align: right;\n",
              "    }\n",
              "</style>\n",
              "<table border=\"1\" class=\"dataframe\">\n",
              "  <thead>\n",
              "    <tr style=\"text-align: right;\">\n",
              "      <th></th>\n",
              "      <th>fixed acidity</th>\n",
              "      <th>volatile acidity</th>\n",
              "      <th>citric acid</th>\n",
              "      <th>residual sugar</th>\n",
              "      <th>chlorides</th>\n",
              "      <th>free sulfur dioxide</th>\n",
              "      <th>total sulfur dioxide</th>\n",
              "      <th>density</th>\n",
              "      <th>pH</th>\n",
              "      <th>sulphates</th>\n",
              "      <th>alcohol</th>\n",
              "      <th>quality</th>\n",
              "    </tr>\n",
              "  </thead>\n",
              "  <tbody>\n",
              "    <tr>\n",
              "      <th>0</th>\n",
              "      <td>7.4</td>\n",
              "      <td>0.70</td>\n",
              "      <td>0.00</td>\n",
              "      <td>1.9</td>\n",
              "      <td>0.076</td>\n",
              "      <td>11.0</td>\n",
              "      <td>34.0</td>\n",
              "      <td>0.9978</td>\n",
              "      <td>3.51</td>\n",
              "      <td>0.56</td>\n",
              "      <td>9.4</td>\n",
              "      <td>5</td>\n",
              "    </tr>\n",
              "    <tr>\n",
              "      <th>1</th>\n",
              "      <td>7.8</td>\n",
              "      <td>0.88</td>\n",
              "      <td>0.00</td>\n",
              "      <td>2.6</td>\n",
              "      <td>0.098</td>\n",
              "      <td>25.0</td>\n",
              "      <td>67.0</td>\n",
              "      <td>0.9968</td>\n",
              "      <td>3.20</td>\n",
              "      <td>0.68</td>\n",
              "      <td>9.8</td>\n",
              "      <td>5</td>\n",
              "    </tr>\n",
              "    <tr>\n",
              "      <th>2</th>\n",
              "      <td>7.8</td>\n",
              "      <td>0.76</td>\n",
              "      <td>0.04</td>\n",
              "      <td>2.3</td>\n",
              "      <td>0.092</td>\n",
              "      <td>15.0</td>\n",
              "      <td>54.0</td>\n",
              "      <td>0.9970</td>\n",
              "      <td>3.26</td>\n",
              "      <td>0.65</td>\n",
              "      <td>9.8</td>\n",
              "      <td>5</td>\n",
              "    </tr>\n",
              "    <tr>\n",
              "      <th>3</th>\n",
              "      <td>11.2</td>\n",
              "      <td>0.28</td>\n",
              "      <td>0.56</td>\n",
              "      <td>1.9</td>\n",
              "      <td>0.075</td>\n",
              "      <td>17.0</td>\n",
              "      <td>60.0</td>\n",
              "      <td>0.9980</td>\n",
              "      <td>3.16</td>\n",
              "      <td>0.58</td>\n",
              "      <td>9.8</td>\n",
              "      <td>6</td>\n",
              "    </tr>\n",
              "    <tr>\n",
              "      <th>4</th>\n",
              "      <td>7.4</td>\n",
              "      <td>0.70</td>\n",
              "      <td>0.00</td>\n",
              "      <td>1.9</td>\n",
              "      <td>0.076</td>\n",
              "      <td>11.0</td>\n",
              "      <td>34.0</td>\n",
              "      <td>0.9978</td>\n",
              "      <td>3.51</td>\n",
              "      <td>0.56</td>\n",
              "      <td>9.4</td>\n",
              "      <td>5</td>\n",
              "    </tr>\n",
              "  </tbody>\n",
              "</table>\n",
              "</div>"
            ],
            "text/plain": [
              "   fixed acidity  volatile acidity  citric acid  residual sugar  chlorides  \\\n",
              "0            7.4              0.70         0.00             1.9      0.076   \n",
              "1            7.8              0.88         0.00             2.6      0.098   \n",
              "2            7.8              0.76         0.04             2.3      0.092   \n",
              "3           11.2              0.28         0.56             1.9      0.075   \n",
              "4            7.4              0.70         0.00             1.9      0.076   \n",
              "\n",
              "   free sulfur dioxide  total sulfur dioxide  density    pH  sulphates  \\\n",
              "0                 11.0                  34.0   0.9978  3.51       0.56   \n",
              "1                 25.0                  67.0   0.9968  3.20       0.68   \n",
              "2                 15.0                  54.0   0.9970  3.26       0.65   \n",
              "3                 17.0                  60.0   0.9980  3.16       0.58   \n",
              "4                 11.0                  34.0   0.9978  3.51       0.56   \n",
              "\n",
              "   alcohol  quality  \n",
              "0      9.4        5  \n",
              "1      9.8        5  \n",
              "2      9.8        5  \n",
              "3      9.8        6  \n",
              "4      9.4        5  "
            ]
          },
          "execution_count": 13,
          "metadata": {},
          "output_type": "execute_result"
        }
      ],
      "source": [
        "df = pd.read_csv(\"winequality-red.csv\", sep=\";\")\n",
        "df.info()\n",
        "df.head()\n"
      ]
    },
    {
      "cell_type": "markdown",
      "id": "b2bdbeaf",
      "metadata": {},
      "source": [
        "## Section 2 – Prepare the Data"
      ]
    },
    {
      "cell_type": "code",
      "execution_count": 14,
      "id": "19d05ffa",
      "metadata": {},
      "outputs": [],
      "source": [
        "def quality_to_label(q):\n",
        "    if q <= 4:\n",
        "        return \"low\"\n",
        "    elif q <= 6:\n",
        "        return \"medium\"\n",
        "    else:\n",
        "        return \"high\"\n",
        "\n",
        "df[\"quality_label\"] = df[\"quality\"].apply(quality_to_label)\n",
        "\n",
        "def quality_to_number(q):\n",
        "    if q <= 4:\n",
        "        return 0\n",
        "    elif q <= 6:\n",
        "        return 1\n",
        "    else:\n",
        "        return 2\n",
        "\n",
        "df[\"quality_numeric\"] = df[\"quality\"].apply(quality_to_number)\n"
      ]
    },
    {
      "cell_type": "markdown",
      "id": "8d98dc72",
      "metadata": {},
      "source": [
        "## Section 3 – Feature Selection and Justification"
      ]
    },
    {
      "cell_type": "code",
      "execution_count": 15,
      "id": "f4719820",
      "metadata": {},
      "outputs": [],
      "source": [
        "X = df.drop(columns=[\"quality\", \"quality_label\", \"quality_numeric\"])\n",
        "y = df[\"quality_numeric\"]\n"
      ]
    },
    {
      "cell_type": "markdown",
      "id": "f02ec010",
      "metadata": {},
      "source": [
        "## Section 4 – Split the Data into Train and Test"
      ]
    },
    {
      "cell_type": "code",
      "execution_count": 16,
      "id": "a1ce93a9",
      "metadata": {},
      "outputs": [],
      "source": [
        "X_train, X_test, y_train, y_test = train_test_split(\n",
        "    X, y, test_size=0.2, random_state=42, stratify=y\n",
        ")\n"
      ]
    },
    {
      "cell_type": "markdown",
      "id": "2c6d518a",
      "metadata": {},
      "source": [
        "## Section 5 – Evaluate Model Performance"
      ]
    },
    {
      "cell_type": "code",
      "execution_count": 17,
      "id": "9e197180",
      "metadata": {},
      "outputs": [
        {
          "name": "stdout",
          "output_type": "stream",
          "text": [
            "\n",
            "Random Forest (100) Results\n",
            "Confusion Matrix (Test):\n",
            "[[  0  13   0]\n",
            " [  0 256   8]\n",
            " [  0  15  28]]\n",
            "Train Accuracy: 1.0000, Test Accuracy: 0.8875\n",
            "Train F1 Score: 1.0000, Test F1 Score: 0.8661\n",
            "\n",
            "Voting (RF + LR + KNN) Results\n",
            "Confusion Matrix (Test):\n",
            "[[  0  13   0]\n",
            " [  0 257   7]\n",
            " [  0  28  15]]\n",
            "Train Accuracy: 0.9171, Test Accuracy: 0.8500\n",
            "Train F1 Score: 0.9003, Test F1 Score: 0.8166\n"
          ]
        }
      ],
      "source": [
        "results = []\n",
        "\n",
        "def evaluate_model(name, model, X_train, y_train, X_test, y_test, results):\n",
        "    model.fit(X_train, y_train)\n",
        "    y_train_pred = model.predict(X_train)\n",
        "    y_test_pred = model.predict(X_test)\n",
        "\n",
        "    train_acc = accuracy_score(y_train, y_train_pred)\n",
        "    test_acc = accuracy_score(y_test, y_test_pred)\n",
        "    train_f1 = f1_score(y_train, y_train_pred, average=\"weighted\")\n",
        "    test_f1 = f1_score(y_test, y_test_pred, average=\"weighted\")\n",
        "\n",
        "    print(f\"\\n{name} Results\")\n",
        "    print(\"Confusion Matrix (Test):\")\n",
        "    print(confusion_matrix(y_test, y_test_pred))\n",
        "    print(f\"Train Accuracy: {train_acc:.4f}, Test Accuracy: {test_acc:.4f}\")\n",
        "    print(f\"Train F1 Score: {train_f1:.4f}, Test F1 Score: {test_f1:.4f}\")\n",
        "\n",
        "    results.append(\n",
        "        {\n",
        "            \"Model\": name,\n",
        "            \"Train Accuracy\": train_acc,\n",
        "            \"Test Accuracy\": test_acc,\n",
        "            \"Train F1\": train_f1,\n",
        "            \"Test F1\": test_f1,\n",
        "        }\n",
        "    )\n",
        "\n",
        "evaluate_model(\n",
        "    \"Random Forest (100)\",\n",
        "    RandomForestClassifier(n_estimators=100, random_state=42),\n",
        "    X_train,\n",
        "    y_train,\n",
        "    X_test,\n",
        "    y_test,\n",
        "    results,\n",
        ")\n",
        "\n",
        "evaluate_model(\n",
        "    \"Voting (RF + LR + KNN)\",\n",
        "    VotingClassifier(\n",
        "        estimators=[\n",
        "            (\"RF\", RandomForestClassifier(n_estimators=100)),\n",
        "            (\"LR\", LogisticRegression(max_iter=2000)),\n",
        "            (\"KNN\", KNeighborsClassifier()),\n",
        "        ],\n",
        "        voting=\"soft\",\n",
        "    ),\n",
        "    X_train,\n",
        "    y_train,\n",
        "    X_test,\n",
        "    y_test,\n",
        "    results,\n",
        ")\n"
      ]
    },
    {
      "cell_type": "markdown",
      "id": "b13034b5",
      "metadata": {},
      "source": [
        "## Section 6 – Compare Results"
      ]
    },
    {
      "cell_type": "code",
      "execution_count": 18,
      "id": "3cbbba8a",
      "metadata": {},
      "outputs": [
        {
          "data": {
            "text/html": [
              "<div>\n",
              "<style scoped>\n",
              "    .dataframe tbody tr th:only-of-type {\n",
              "        vertical-align: middle;\n",
              "    }\n",
              "\n",
              "    .dataframe tbody tr th {\n",
              "        vertical-align: top;\n",
              "    }\n",
              "\n",
              "    .dataframe thead th {\n",
              "        text-align: right;\n",
              "    }\n",
              "</style>\n",
              "<table border=\"1\" class=\"dataframe\">\n",
              "  <thead>\n",
              "    <tr style=\"text-align: right;\">\n",
              "      <th></th>\n",
              "      <th>Model</th>\n",
              "      <th>Train Accuracy</th>\n",
              "      <th>Test Accuracy</th>\n",
              "      <th>Train F1</th>\n",
              "      <th>Test F1</th>\n",
              "    </tr>\n",
              "  </thead>\n",
              "  <tbody>\n",
              "    <tr>\n",
              "      <th>0</th>\n",
              "      <td>Random Forest (100)</td>\n",
              "      <td>1.000000</td>\n",
              "      <td>0.8875</td>\n",
              "      <td>1.000000</td>\n",
              "      <td>0.866056</td>\n",
              "    </tr>\n",
              "    <tr>\n",
              "      <th>1</th>\n",
              "      <td>Voting (RF + LR + KNN)</td>\n",
              "      <td>0.917123</td>\n",
              "      <td>0.8500</td>\n",
              "      <td>0.900276</td>\n",
              "      <td>0.816557</td>\n",
              "    </tr>\n",
              "  </tbody>\n",
              "</table>\n",
              "</div>"
            ],
            "text/plain": [
              "                    Model  Train Accuracy  Test Accuracy  Train F1   Test F1\n",
              "0     Random Forest (100)        1.000000         0.8875  1.000000  0.866056\n",
              "1  Voting (RF + LR + KNN)        0.917123         0.8500  0.900276  0.816557"
            ]
          },
          "execution_count": 18,
          "metadata": {},
          "output_type": "execute_result"
        }
      ],
      "source": [
        "results_df = pd.DataFrame(results)\n",
        "results_df\n"
      ]
    },
    {
      "cell_type": "markdown",
      "id": "c336daaf",
      "metadata": {},
      "source": [
        "## Section 7 – Conclusions and Insights\n",
        "The Random Forest model performed slightly better on both accuracy and F1 score, while the voting classifier was very close behind. \n",
        "This suggests that ensemble tree methods generalize well on this dataset. Further tuning or boosting methods could be explored.\n"
      ]
    },
    {
      "cell_type": "markdown",
      "id": "1ab9eec7",
      "metadata": {},
      "source": [
        "## Section 5 – Evaluate Model Performance"
      ]
    },
    {
      "cell_type": "code",
      "execution_count": 19,
      "id": "2090fddd",
      "metadata": {},
      "outputs": [],
      "source": [
        "results = []\n",
        "\n",
        "def evaluate_model(name, model, X_train, y_train, X_test, y_test, results):\n",
        "    model.fit(X_train, y_train)\n",
        "    y_train_pred = model.predict(X_train)\n",
        "    y_test_pred = model.predict(X_test)\n",
        "\n",
        "    train_acc = accuracy_score(y_train, y_train_pred)\n",
        "    test_acc = accuracy_score(y_test, y_test_pred)\n",
        "    train_f1 = f1_score(y_train, y_train_pred, average=\"weighted\")\n",
        "    test_f1 = f1_score(y_test, y_test_pred, average=\"weighted\")\n",
        "\n",
        "    print(f\"\\n{name} Results\")\n",
        "    print(\"Confusion Matrix (Test):\")\n",
        "    print(confusion_matrix(y_test, y_test_pred))\n",
        "    print(f\"Train Accuracy: {train_acc:.4f}, Test Accuracy: {test_acc:.4f}\")\n",
        "    print(f\"Train F1 Score: {train_f1:.4f}, Test F1 Score: {test_f1:.4f}\")\n",
        "\n",
        "    results.append({\n",
        "        \"Model\": name,\n",
        "        \"Train Accuracy\": train_acc,\n",
        "        \"Test Accuracy\": test_acc,\n",
        "        \"Train F1\": train_f1,\n",
        "        \"Test F1\": test_f1\n",
        "    })"
      ]
    },
    {
      "cell_type": "code",
      "execution_count": 20,
      "id": "a5621732",
      "metadata": {},
      "outputs": [
        {
          "name": "stdout",
          "output_type": "stream",
          "text": [
            "\n",
            "Random Forest (100) Results\n",
            "Confusion Matrix (Test):\n",
            "[[  0  13   0]\n",
            " [  0 256   8]\n",
            " [  0  15  28]]\n",
            "Train Accuracy: 1.0000, Test Accuracy: 0.8875\n",
            "Train F1 Score: 1.0000, Test F1 Score: 0.8661\n"
          ]
        }
      ],
      "source": [
        "evaluate_model(\n",
        "    \"Random Forest (100)\",\n",
        "    RandomForestClassifier(n_estimators=100, random_state=42),\n",
        "    X_train, y_train, X_test, y_test, results\n",
        ")"
      ]
    },
    {
      "cell_type": "code",
      "execution_count": 21,
      "id": "126f2e35",
      "metadata": {},
      "outputs": [
        {
          "name": "stdout",
          "output_type": "stream",
          "text": [
            "\n",
            "Voting (RF + LR + KNN) Results\n",
            "Confusion Matrix (Test):\n",
            "[[  0  13   0]\n",
            " [  0 257   7]\n",
            " [  0  27  16]]\n",
            "Train Accuracy: 0.9156, Test Accuracy: 0.8531\n",
            "Train F1 Score: 0.8967, Test F1 Score: 0.8210\n"
          ]
        }
      ],
      "source": [
        "evaluate_model(\n",
        "    \"Voting (RF + LR + KNN)\",\n",
        "    VotingClassifier(\n",
        "        estimators=[\n",
        "            (\"RF\", RandomForestClassifier(n_estimators=100)),\n",
        "            (\"LR\", LogisticRegression(max_iter=2000)),\n",
        "            (\"KNN\", KNeighborsClassifier()),\n",
        "        ],\n",
        "        voting=\"soft\",\n",
        "    ),\n",
        "    X_train, y_train, X_test, y_test, results\n",
        ")"
      ]
    },
    {
      "cell_type": "markdown",
      "id": "cb37c30c",
      "metadata": {},
      "source": [
        "## Section 6 – Compare Results"
      ]
    },
    {
      "cell_type": "code",
      "execution_count": 22,
      "id": "33ffa32d",
      "metadata": {},
      "outputs": [
        {
          "data": {
            "text/html": [
              "<div>\n",
              "<style scoped>\n",
              "    .dataframe tbody tr th:only-of-type {\n",
              "        vertical-align: middle;\n",
              "    }\n",
              "\n",
              "    .dataframe tbody tr th {\n",
              "        vertical-align: top;\n",
              "    }\n",
              "\n",
              "    .dataframe thead th {\n",
              "        text-align: right;\n",
              "    }\n",
              "</style>\n",
              "<table border=\"1\" class=\"dataframe\">\n",
              "  <thead>\n",
              "    <tr style=\"text-align: right;\">\n",
              "      <th></th>\n",
              "      <th>Model</th>\n",
              "      <th>Train Accuracy</th>\n",
              "      <th>Test Accuracy</th>\n",
              "      <th>Train F1</th>\n",
              "      <th>Test F1</th>\n",
              "    </tr>\n",
              "  </thead>\n",
              "  <tbody>\n",
              "    <tr>\n",
              "      <th>0</th>\n",
              "      <td>Random Forest (100)</td>\n",
              "      <td>1.000000</td>\n",
              "      <td>0.887500</td>\n",
              "      <td>1.000000</td>\n",
              "      <td>0.866056</td>\n",
              "    </tr>\n",
              "    <tr>\n",
              "      <th>1</th>\n",
              "      <td>Voting (RF + LR + KNN)</td>\n",
              "      <td>0.915559</td>\n",
              "      <td>0.853125</td>\n",
              "      <td>0.896724</td>\n",
              "      <td>0.821034</td>\n",
              "    </tr>\n",
              "  </tbody>\n",
              "</table>\n",
              "</div>"
            ],
            "text/plain": [
              "                    Model  Train Accuracy  Test Accuracy  Train F1   Test F1\n",
              "0     Random Forest (100)        1.000000       0.887500  1.000000  0.866056\n",
              "1  Voting (RF + LR + KNN)        0.915559       0.853125  0.896724  0.821034"
            ]
          },
          "execution_count": 22,
          "metadata": {},
          "output_type": "execute_result"
        }
      ],
      "source": [
        "results_df = pd.DataFrame(results)\n",
        "results_df"
      ]
    },
    {
      "cell_type": "markdown",
      "id": "0303d6ac",
      "metadata": {},
      "source": [
        "## Section 7 – Conclusions and Insights\n",
        "\n",
        "The Random Forest classifier achieved the highest accuracy and F1 score, suggesting it's a strong model for wine quality classification. The Voting Classifier also performed well and provides more model diversity. Based on this, tree-based models appear effective on this dataset. If more time were available, I’d explore Gradient Boosting and hyperparameter tuning to push performance further."
      ]
    }
  ],
  "metadata": {
    "kernelspec": {
      "display_name": ".venv",
      "language": "python",
      "name": "python3"
    },
    "language_info": {
      "codemirror_mode": {
        "name": "ipython",
        "version": 3
      },
      "file_extension": ".py",
      "mimetype": "text/x-python",
      "name": "python",
      "nbconvert_exporter": "python",
      "pygments_lexer": "ipython3",
      "version": "3.11.8"
    }
  },
  "nbformat": 4,
  "nbformat_minor": 5
}
